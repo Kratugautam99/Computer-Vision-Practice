{
 "cells": [
  {
   "cell_type": "code",
   "execution_count": 73,
   "id": "0308c7e9",
   "metadata": {},
   "outputs": [
    {
     "name": "stdout",
     "output_type": "stream",
     "text": [
      "Requirement already satisfied: pytesseract in c:\\users\\user\\.conda\\envs\\opencv_env\\lib\\site-packages (0.3.13)\n",
      "Requirement already satisfied: easyocr in c:\\users\\user\\.conda\\envs\\opencv_env\\lib\\site-packages (1.7.2)\n",
      "Requirement already satisfied: opencv-python in c:\\users\\user\\.conda\\envs\\opencv_env\\lib\\site-packages (4.12.0.88)\n",
      "Requirement already satisfied: pillow in c:\\users\\user\\.conda\\envs\\opencv_env\\lib\\site-packages (11.3.0)\n",
      "Requirement already satisfied: packaging>=21.3 in c:\\users\\user\\.conda\\envs\\opencv_env\\lib\\site-packages (from pytesseract) (25.0)\n",
      "Requirement already satisfied: torch in c:\\users\\user\\.conda\\envs\\opencv_env\\lib\\site-packages (from easyocr) (2.8.0)\n",
      "Requirement already satisfied: torchvision>=0.5 in c:\\users\\user\\.conda\\envs\\opencv_env\\lib\\site-packages (from easyocr) (0.23.0)\n",
      "Requirement already satisfied: opencv-python-headless in c:\\users\\user\\.conda\\envs\\opencv_env\\lib\\site-packages (from easyocr) (4.12.0.88)\n",
      "Requirement already satisfied: scipy in c:\\users\\user\\.conda\\envs\\opencv_env\\lib\\site-packages (from easyocr) (1.16.2)\n",
      "Requirement already satisfied: numpy in c:\\users\\user\\.conda\\envs\\opencv_env\\lib\\site-packages (from easyocr) (2.2.6)\n",
      "Requirement already satisfied: scikit-image in c:\\users\\user\\.conda\\envs\\opencv_env\\lib\\site-packages (from easyocr) (0.25.2)\n",
      "Requirement already satisfied: python-bidi in c:\\users\\user\\.conda\\envs\\opencv_env\\lib\\site-packages (from easyocr) (0.6.6)\n",
      "Requirement already satisfied: PyYAML in c:\\users\\user\\.conda\\envs\\opencv_env\\lib\\site-packages (from easyocr) (6.0.3)\n",
      "Requirement already satisfied: Shapely in c:\\users\\user\\.conda\\envs\\opencv_env\\lib\\site-packages (from easyocr) (2.1.2)\n",
      "Requirement already satisfied: pyclipper in c:\\users\\user\\.conda\\envs\\opencv_env\\lib\\site-packages (from easyocr) (1.3.0.post6)\n",
      "Requirement already satisfied: ninja in c:\\users\\user\\.conda\\envs\\opencv_env\\lib\\site-packages (from easyocr) (1.13.0)\n",
      "Requirement already satisfied: filelock in c:\\users\\user\\.conda\\envs\\opencv_env\\lib\\site-packages (from torch->easyocr) (3.20.0)\n",
      "Requirement already satisfied: typing-extensions>=4.10.0 in c:\\users\\user\\.conda\\envs\\opencv_env\\lib\\site-packages (from torch->easyocr) (4.15.0)\n",
      "Requirement already satisfied: sympy>=1.13.3 in c:\\users\\user\\.conda\\envs\\opencv_env\\lib\\site-packages (from torch->easyocr) (1.14.0)\n",
      "Requirement already satisfied: networkx in c:\\users\\user\\.conda\\envs\\opencv_env\\lib\\site-packages (from torch->easyocr) (3.5)\n",
      "Requirement already satisfied: jinja2 in c:\\users\\user\\.conda\\envs\\opencv_env\\lib\\site-packages (from torch->easyocr) (3.1.6)\n",
      "Requirement already satisfied: fsspec in c:\\users\\user\\.conda\\envs\\opencv_env\\lib\\site-packages (from torch->easyocr) (2025.9.0)\n",
      "Requirement already satisfied: mpmath<1.4,>=1.1.0 in c:\\users\\user\\.conda\\envs\\opencv_env\\lib\\site-packages (from sympy>=1.13.3->torch->easyocr) (1.3.0)\n",
      "Requirement already satisfied: MarkupSafe>=2.0 in c:\\users\\user\\.conda\\envs\\opencv_env\\lib\\site-packages (from jinja2->torch->easyocr) (3.0.3)\n",
      "Requirement already satisfied: imageio!=2.35.0,>=2.33 in c:\\users\\user\\.conda\\envs\\opencv_env\\lib\\site-packages (from scikit-image->easyocr) (2.37.0)\n",
      "Requirement already satisfied: tifffile>=2022.8.12 in c:\\users\\user\\.conda\\envs\\opencv_env\\lib\\site-packages (from scikit-image->easyocr) (2025.10.4)\n",
      "Requirement already satisfied: lazy-loader>=0.4 in c:\\users\\user\\.conda\\envs\\opencv_env\\lib\\site-packages (from scikit-image->easyocr) (0.4)\n"
     ]
    }
   ],
   "source": [
    "!pip install pytesseract easyocr opencv-python pillow\n",
    "import warnings\n",
    "warnings.filterwarnings(\"ignore\")\n",
    "warnings.simplefilter(\"ignore\")"
   ]
  },
  {
   "cell_type": "code",
   "execution_count": 74,
   "id": "d04e2662",
   "metadata": {},
   "outputs": [
    {
     "name": "stdout",
     "output_type": "stream",
     "text": [
      "Tesseract already available at: C:\\Program Files\\Tesseract-OCR\\tesseract.exe\n"
     ]
    }
   ],
   "source": [
    "import os, re, pytesseract\n",
    "tess_path = r\"C:\\Program Files\\Tesseract-OCR\"\n",
    "exe_path = os.path.join(tess_path, \"tesseract.exe\")\n",
    "\n",
    "if not os.path.exists(exe_path):\n",
    "    url = \"https://github.com/UB-Mannheim/tesseract/wiki\"\n",
    "    print(\"⚡ Please manually download the Windows installer from:\", url)\n",
    "    print(\"Once installed, rerun this cell.\")\n",
    "else:\n",
    "    print(\"Tesseract already available at:\", exe_path)\n",
    "\n",
    "pytesseract.pytesseract.tesseract_cmd = exe_path"
   ]
  },
  {
   "cell_type": "code",
   "execution_count": 75,
   "id": "176831a5",
   "metadata": {},
   "outputs": [
    {
     "name": "stderr",
     "output_type": "stream",
     "text": [
      "Using CPU. Note: This module is much faster with a GPU.\n"
     ]
    }
   ],
   "source": [
    "from PIL import Image\n",
    "from easyocr import Reader\n",
    "\n",
    "reader = Reader(['en'], gpu=False)\n",
    "\n",
    "def read_text_tesseract(image_path):\n",
    "    return pytesseract.image_to_string(\n",
    "        Image.open(image_path),\n",
    "        lang='eng',\n",
    "        config=\"--oem 1 --psm 7\"\n",
    "    )\n",
    "\n",
    "def read_text_easyocr(image_path):\n",
    "  text = ''\n",
    "  results = reader.readtext(image_path)\n",
    "  for result in results:\n",
    "    text = text + result[1] +  ' '\n",
    "\n",
    "  text = text[:-1]\n",
    "  return text"
   ]
  },
  {
   "cell_type": "code",
   "execution_count": 76,
   "id": "d309dbda",
   "metadata": {},
   "outputs": [],
   "source": [
    "def jaccard_similarity(sentence1, sentence2):\n",
    "    # Tokenize sentences into sets of words\n",
    "    set1 = set(sentence1.lower().split())\n",
    "    set2 = set(sentence2.lower().split())\n",
    "\n",
    "    # Calculate Jaccard similarity\n",
    "    intersection_size = len(set1.intersection(set2))\n",
    "    union_size = len(set1.union(set2))\n",
    "\n",
    "    # Avoid division by zero if both sets are empty\n",
    "    similarity = intersection_size / union_size if union_size != 0 else 0.0\n",
    "\n",
    "    return similarity"
   ]
  },
  {
   "cell_type": "code",
   "execution_count": 79,
   "id": "dee53094",
   "metadata": {},
   "outputs": [
    {
     "name": "stdout",
     "output_type": "stream",
     "text": [
      "GT : \"spear\", Tesseract Text : \"\", Easy OCR Text : \"spfar\"\n",
      "GT : \"glassplastic\", Tesseract Text : \"\", Easy OCR Text : \"glassplastic\"\n",
      "GT : \"television\", Tesseract Text : \"tsievisio\", Easy OCR Text : \"television\"\n",
      "GT : \"adventure\", Tesseract Text : \"adventuee\", Easy OCR Text : \"adueitupe\"\n",
      "GT : \"bread\", Tesseract Text : \"\", Easy OCR Text : \"7nt\"\n",
      "score tesseract: 0.0\n",
      "score_easyocr: 0.4\n",
      "\n",
      "\n",
      "\n",
      "Examples Below :- \n",
      "\n",
      "\n",
      "TsieVisio\n",
      "\n",
      "\n",
      "\n",
      "--<>--\n",
      "\n",
      "\n",
      "TeleVision\n"
     ]
    }
   ],
   "source": [
    "score_tesseract = 0\n",
    "score_easyocr = 0\n",
    "for image_path_ in os.listdir('Applicational_Projects/3)_Text_Detection_OCR/Data/Inputs'):\n",
    "  image_path = os.path.join('Applicational_Projects/3)_Text_Detection_OCR/Data/Inputs', image_path_)\n",
    "\n",
    "  gt = image_path[60:-4].replace('_', '').lower()\n",
    "  score_tesseract += jaccard_similarity(gt, re.sub(r'[^a-zA-Z0-9]', '', read_text_tesseract(image_path)).lower())\n",
    "  score_easyocr += jaccard_similarity(gt, re.sub(r'[^a-zA-Z0-9]', '', read_text_easyocr(image_path)).lower())\n",
    "  print(\"GT : \\\"\" + gt + \"\\\", Tesseract Text : \\\"\" + re.sub(r'[^a-zA-Z0-9]', '', read_text_tesseract(image_path)).lower() + \"\\\", Easy OCR Text : \\\"\" + re.sub(r'[^a-zA-Z0-9]', '', read_text_easyocr(image_path).lower()) + \"\\\"\")\n",
    "print('score tesseract:', score_tesseract / 5)\n",
    "print('score_easyocr:', score_easyocr / 5)\n",
    "print(\"\\n\\n\\nExamples Below :- \\n\\n\")\n",
    "print(read_text_tesseract(r\"Applicational_Projects\\3)_Text_Detection_OCR\\Data\\Inputs\\3) television.jpg\"))\n",
    "print(\"\\n\\n--<>--\\n\\n\")\n",
    "print(read_text_easyocr(r\"Applicational_Projects\\3)_Text_Detection_OCR\\Data\\Inputs\\3) television.jpg\"))"
   ]
  }
 ],
 "metadata": {
  "kernelspec": {
   "display_name": "Python (opencv_env)",
   "language": "python",
   "name": "opencv_env"
  }
 },
 "nbformat": 4,
 "nbformat_minor": 5
}
